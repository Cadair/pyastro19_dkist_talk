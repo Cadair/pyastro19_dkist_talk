{
 "cells": [
  {
   "cell_type": "markdown",
   "metadata": {
    "slideshow": {
     "slide_type": "slide"
    }
   },
   "source": [
    "# DKIST Adventures in Astropy\n",
    "## *(... and related packages.)*\n",
    "\n",
    "## Stuart Mumford\n",
    "\n",
    "<a href=\"http://nso.edu\">\n",
    "<img style='float: left; width: 30%; margin-top: 115px; height: 25%;' src='images/NSOlogo_transparent.gif'/>\n",
    "</a>\n",
    "<a href=\"http://shef.ac.uk\">\n",
    "<img style='float: right; width: 30%; margin-top: 145px; height: 25%;' src='images/TUOS_Logo_CMYK_Keyline.svg'/>\n",
    "</a>\n",
    "<a href=\"http://dkist.nso.edu\">\n",
    "<img style='float: right; width: 30%; margin-top: 90px; height: 25%; margin-right: 5%;' src='images/DKISTLogo-Transparent.png'/>\n",
    "</a>\n"
   ]
  },
  {
   "cell_type": "markdown",
   "metadata": {
    "slideshow": {
     "slide_type": "slide"
    }
   },
   "source": [
    "# The Daniel K. Inouye Solar Telescope (DKIST)\n",
    "\n",
    "<div class='left'>\n",
    "\n",
    "<p style=\"font-size:10px;\">\n",
    "<img style='width: 80%; margin-bottom:0px;' src='images/DKISTSite.jpg'/>\n",
    "&copy; NSO/AURA/NSF\n",
    "</p>\n",
    "\n",
    "</div>\n",
    "\n",
    "<div class='right'>\n",
    "    <ul>\n",
    "        <li>\n",
    "            4m Mirror.\n",
    "        </li>\n",
    "        <li>\n",
    "            5 First light instruments.\n",
    "        </li>\n",
    "        <li>\n",
    "            Estimated raw datarate of 3 Pb/year.\n",
    "        </li>\n",
    "        <li>\n",
    "            Operational early 2020.\n",
    "        </li>\n",
    "    </ul>\n",
    "</div>"
   ]
  },
  {
   "cell_type": "markdown",
   "metadata": {
    "slideshow": {
     "slide_type": "slide"
    }
   },
   "source": [
    "# Five Instruments, Five Dimensions, *many* FITS files\n",
    "\n",
    "* Five dimensions:\n",
    "    - Space (latitude)\n",
    "    - Space (longitude)\n",
    "    - Wavelength\n",
    "    - Time\n",
    "    - Stokes Profile\n",
    "* All datasets exported as many 2D fits files.\n",
    "* Each instrument can be reconfigured to meet science needs, and produce varied data products."
   ]
  },
  {
   "cell_type": "markdown",
   "metadata": {
    "slideshow": {
     "slide_type": "subslide"
    }
   },
   "source": [
    "# Initial User Tools Challenges\n",
    "\n",
    "* No existing support for multi-dimensional solar data in Python.\n",
    "* Tabular and discontiguious world coordinate support.\n",
    "* How to expose all the FITS files as a single 5D array?\n",
    "* Python interface to data centre search API.\n",
    "* Minimize data transfer for users and data centre."
   ]
  },
  {
   "cell_type": "markdown",
   "metadata": {
    "slideshow": {
     "slide_type": "slide"
    }
   },
   "source": [
    "# DKIST Data Centre\n",
    "\n",
    "- 8 people.\n",
    "- One (soon to be two) calibration engineer.\n",
    "- One developer working on user software.\n",
    "- All calibration, user tools, and a lot of infrastructure is all Python."
   ]
  },
  {
   "cell_type": "markdown",
   "metadata": {
    "slideshow": {
     "slide_type": "slide"
    }
   },
   "source": [
    "# What to Use?\n"
   ]
  },
  {
   "cell_type": "markdown",
   "metadata": {
    "slideshow": {
     "slide_type": "subslide"
    }
   },
   "source": [
    "## Dask\n",
    "\n",
    "<img style='width: 75%; margin-bottom:0px; display: block; margin-left: auto; margin-right: auto;' src='images/dask.png'/>"
   ]
  },
  {
   "cell_type": "markdown",
   "metadata": {
    "slideshow": {
     "slide_type": "subslide"
    }
   },
   "source": [
    "# WCS\n",
    "\n",
    "<div class='left'>\n",
    "\n",
    "<p style=\"font-size:10px;\">\n",
    "<img style='width: 75%; margin-bottom:0px; display: block; margin-left: auto; margin-right: auto;' src='images/wcs_save_tab.png'/>\n",
    "<img style='width: 75%; margin-bottom:0px; display: block; margin-left: auto; margin-right: auto;' src='images/wcs_irregular_tab.png'/>\n",
    "</p>\n",
    "\n",
    "</div>\n",
    "\n",
    "<div class='right'>\n",
    "<img style='width: 90%; margin-bottom:0px; display: block; margin-left: auto; margin-right: auto;' src='images/gwcs_docs.png'/>\n",
    "\n",
    "</div>"
   ]
  },
  {
   "cell_type": "markdown",
   "metadata": {
    "slideshow": {
     "slide_type": "subslide"
    }
   },
   "source": [
    "# ASDF\n",
    "\n",
    "<img style='width: 75%; margin-bottom:0px; display: block; margin-left: auto; margin-right: auto;' src='images/asdf_docs.png'/>"
   ]
  },
  {
   "cell_type": "markdown",
   "metadata": {
    "slideshow": {
     "slide_type": "subslide"
    }
   },
   "source": [
    "# NDCube\n",
    "\n",
    "<img style='width: 75%; margin-bottom:0px; display: block; margin-left: auto; margin-right: auto;' src='images/ndcube_docs.png'/>"
   ]
  },
  {
   "cell_type": "markdown",
   "metadata": {
    "slideshow": {
     "slide_type": "slide"
    }
   },
   "source": [
    "# Astropy Modeling\n",
    "\n",
    "<div class='left'>\n",
    "<img style='width: 80%; margin-bottom:0px;' src='images/prs/astropy/model_units.png'/>\n",
    "\n",
    "</div>\n",
    "\n",
    "<div class='right'>\n",
    "<img style='width: 80%; margin-bottom:0px;' src='images/modeling_pr_stack.png'/>\n",
    "</div>"
   ]
  },
  {
   "cell_type": "markdown",
   "metadata": {
    "slideshow": {
     "slide_type": "slide"
    }
   },
   "source": []
  }
 ],
 "metadata": {
  "celltoolbar": "Slideshow",
  "kernelspec": {
   "display_name": "Python 3",
   "language": "python",
   "name": "python3"
  },
  "language_info": {
   "codemirror_mode": {
    "name": "ipython",
    "version": 3
   },
   "file_extension": ".py",
   "mimetype": "text/x-python",
   "name": "python",
   "nbconvert_exporter": "python",
   "pygments_lexer": "ipython3",
   "version": "3.7.3"
  }
 },
 "nbformat": 4,
 "nbformat_minor": 1
}
