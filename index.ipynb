{
 "cells": [
  {
   "cell_type": "markdown",
   "metadata": {
    "slideshow": {
     "slide_type": "slide"
    }
   },
   "source": [
    "# DKIST Adventures in Astropy\n",
    "### (and related packages...)\n",
    "\n",
    "## Stuart Mumford\n",
    "\n",
    "<a href=\"http://nso.edu\">\n",
    "<img style='float: left; width: 30%; margin-top: 115px; height: 25%;' src='images/NSOlogo_transparent.gif'/>\n",
    "</a>\n",
    "<a href=\"http://shef.ac.uk\">\n",
    "<img style='float: right; width: 30%; margin-top: 145px; height: 25%;' src='images/TUOS_Logo_CMYK_Keyline.svg'/>\n",
    "</a>\n",
    "<a href=\"http://dkist.nso.edu\">\n",
    "<img style='float: right; width: 30%; margin-top: 90px; height: 25%; margin-right: 5%;' src='images/DKISTLogo-Transparent.png'/>\n",
    "</a>\n"
   ]
  },
  {
   "cell_type": "markdown",
   "metadata": {},
   "source": [
    "# The Daniel K. Inouye Solar Telescope (DKIST)\n",
    "\n",
    "<div class='left'>\n",
    "\n",
    "<p style=\"font-size:10px;\">\n",
    "<img style='width: 80%; margin-bottom:0px;' src='images/DKISTSite.jpg'/>\n",
    "&copy; NSO/AURA/NSF\n",
    "</p>\n",
    "\n",
    "</div>\n",
    "\n",
    "<div class='right'>\n",
    "    <ul>\n",
    "        <li>\n",
    "            4m Mirror.\n",
    "        </li>\n",
    "        <li>\n",
    "            5 First light instruments.\n",
    "        </li>\n",
    "        <li>\n",
    "            Estimated raw datarate of 3 Pb/year.\n",
    "        </li>\n",
    "        <li>\n",
    "            Operational early 2020.\n",
    "        </li>\n",
    "    </ul>\n",
    "</div>"
   ]
  },
  {
   "cell_type": "markdown",
   "metadata": {
    "slideshow": {
     "slide_type": "slide"
    }
   },
   "source": [
    "# Another slide, with columns!\n",
    "\n",
    "<div class='left'>\n",
    "\n",
    "This is on the right!\n",
    "\n",
    "</div>\n",
    "\n",
    "<div class='right'>\n",
    "\n",
    "This is on the left!\n",
    "\n",
    "</div>\n"
   ]
  },
  {
   "cell_type": "markdown",
   "metadata": {
    "slideshow": {
     "slide_type": "slide"
    }
   },
   "source": [
    "# Equations and Stuff!\n",
    "\n",
    "<p style=\"text-align: center;\"> This text is at the top.</p>\n",
    "\n",
    "<div class='left' style=\"border-right: solid\">\n",
    "\n",
    "These are some equations:\n",
    "\n",
    "$F \\approx 3 \\times 10^7$ ergs s<sup>-1</sup> cm <sup>-2</sup>,\n",
    "\n",
    "<br/>\n",
    "\n",
    "$F_{AR} \\approx 10^3 - 10^4$ ergs s<sup>-1</sup> cm <sup>-2</sup>,\n",
    "\n",
    "</div>\n",
    "\n",
    "<div class='right'>\n",
    "\n",
    "$\\rho_0 = 23.6 m_p N_e$\n",
    "\n",
    "<br/>\n",
    "\n",
    "LOOK Numbers!\n",
    "\n",
    "</div>\n",
    "\n",
    "<div style=\"clear: both;\"></div>\n",
    "\n",
    "\n",
    "## Markdown!\n",
    "\n",
    "\n",
    "Gone back to plain markdown now, you can't have markdown in html block elements (live div's).\n"
   ]
  },
  {
   "cell_type": "markdown",
   "metadata": {
    "slideshow": {
     "slide_type": "slide"
    }
   },
   "source": [
    "# Code!"
   ]
  },
  {
   "cell_type": "code",
   "execution_count": 5,
   "metadata": {
    "collapsed": true
   },
   "outputs": [],
   "source": [
    "# it's a notebook after all\n",
    "\n",
    "def my_awesome_function(awesomeness):\n",
    "    \"\"\"\n",
    "    You are awesome.\n",
    "    \"\"\"\n",
    "    print(\"Hello, you awesome person.\", awesomeness)"
   ]
  },
  {
   "cell_type": "code",
   "execution_count": 6,
   "metadata": {},
   "outputs": [
    {
     "name": "stdout",
     "output_type": "stream",
     "text": [
      "Hello, you awesome person. Awesome!\n"
     ]
    }
   ],
   "source": [
    "my_awesome_function(\"Awesome!\")"
   ]
  }
 ],
 "metadata": {
  "celltoolbar": "Slideshow",
  "kernelspec": {
   "display_name": "Python 3",
   "language": "python",
   "name": "python3"
  },
  "language_info": {
   "codemirror_mode": {
    "name": "ipython",
    "version": 3
   },
   "file_extension": ".py",
   "mimetype": "text/x-python",
   "name": "python",
   "nbconvert_exporter": "python",
   "pygments_lexer": "ipython3",
   "version": "3.7.3"
  }
 },
 "nbformat": 4,
 "nbformat_minor": 1
}
